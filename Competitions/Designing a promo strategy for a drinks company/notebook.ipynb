{
 "cells": [
  {
   "cell_type": "markdown",
   "id": "6760850d-7411-41e3-a00b-8f8504484e7c",
   "metadata": {},
   "source": [
    "# Where should a drinks company run promotions?\n",
    "\n",
    "## 📖 Background\n",
    "Your company owns a chain of stores across Russia that sell a variety of alcoholic drinks. The company recently ran a wine promotion in Saint Petersburg that was very successful. Due to the cost to the business, it isn’t possible to run the promotion in all regions. The marketing team would like to target 10 other regions that have similar buying habits to Saint Petersburg where they would expect the promotion to be similarly successful.\n",
    "\n",
    "### The data\n",
    "The marketing team has sourced you with historical sales volumes per capita for several different drinks types.\n",
    "\n",
    "- \"year\" - year (1998-2016)\n",
    "- \"region\" - name of a federal subject of Russia. It could be oblast, republic, krai, autonomous okrug, federal city and a single autonomous oblast\n",
    "- \"wine\" - sale of wine in litres by year per capita\n",
    "- \"beer\" - sale of beer in litres by year per capita\n",
    "- \"vodka\" - sale of vodka in litres by year per capita\n",
    "- \"champagne\" - sale of champagne in litres by year per capita\n",
    "- \"brandy\" - sale of brandy in litres by year per capita"
   ]
  },
  {
   "cell_type": "markdown",
   "id": "fc8307d9-5953-4c3a-b3dc-c89882e35887",
   "metadata": {
    "id": "TAezigD_8u-1"
   },
   "source": [
    "## 💪 Competition challenge\n",
    "\n",
    "1. Recommend 10 additional regions they should select for the promotion.\n",
    "2. Tell the story that supports your recommendations."
   ]
  },
  {
   "cell_type": "markdown",
   "id": "77672d3c-af21-4fa3-bffc-fe80668cf9f6",
   "metadata": {},
   "source": [
    "# Imports"
   ]
  },
  {
   "cell_type": "code",
   "execution_count": 1,
   "id": "2ff316fc-9db1-4079-8f53-c551791be702",
   "metadata": {},
   "outputs": [],
   "source": [
    "import pandas as pd\n",
    "import numpy as np\n",
    "import matplotlib.pyplot as plt\n",
    "import seaborn as sns\n",
    "\n",
    "sns.set_style('whitegrid')\n",
    "\n",
    "from sklearn.decomposition import PCA\n",
    "from sklearn.preprocessing import StandardScaler\n",
    "from sklearn.cluster import KMeans\n",
    "\n",
    "from sklearn.metrics.pairwise import cosine_similarity, euclidean_distances"
   ]
  },
  {
   "cell_type": "code",
   "execution_count": 2,
   "id": "5251480a-56de-43e5-b86c-1fd88afa656e",
   "metadata": {},
   "outputs": [
    {
     "ename": "FileNotFoundError",
     "evalue": "[Errno 2] No such file or directory: 'data/alcohol-consumption-in-russia.csv'",
     "output_type": "error",
     "traceback": [
      "\u001b[0;31m---------------------------------------------------------------------------\u001b[0m",
      "\u001b[0;31mFileNotFoundError\u001b[0m                         Traceback (most recent call last)",
      "Cell \u001b[0;32mIn[2], line 2\u001b[0m\n\u001b[1;32m      1\u001b[0m \u001b[38;5;66;03m# dataset\u001b[39;00m\n\u001b[0;32m----> 2\u001b[0m alcohol \u001b[38;5;241m=\u001b[39m \u001b[43mpd\u001b[49m\u001b[38;5;241;43m.\u001b[39;49m\u001b[43mread_csv\u001b[49m\u001b[43m(\u001b[49m\u001b[38;5;124;43m\"\u001b[39;49m\u001b[38;5;124;43mdata/alcohol-consumption-in-russia.csv\u001b[39;49m\u001b[38;5;124;43m\"\u001b[39;49m\u001b[43m)\u001b[49m\n\u001b[1;32m      4\u001b[0m \u001b[38;5;66;03m# key variables\u001b[39;00m\n\u001b[1;32m      5\u001b[0m target_region \u001b[38;5;241m=\u001b[39m \u001b[38;5;124m'\u001b[39m\u001b[38;5;124mSaint Petersburg\u001b[39m\u001b[38;5;124m'\u001b[39m\n",
      "File \u001b[0;32m~/.pyenv/versions/3.10.6/envs/lang-env/lib/python3.10/site-packages/pandas/util/_decorators.py:211\u001b[0m, in \u001b[0;36mdeprecate_kwarg.<locals>._deprecate_kwarg.<locals>.wrapper\u001b[0;34m(*args, **kwargs)\u001b[0m\n\u001b[1;32m    209\u001b[0m     \u001b[38;5;28;01melse\u001b[39;00m:\n\u001b[1;32m    210\u001b[0m         kwargs[new_arg_name] \u001b[38;5;241m=\u001b[39m new_arg_value\n\u001b[0;32m--> 211\u001b[0m \u001b[38;5;28;01mreturn\u001b[39;00m \u001b[43mfunc\u001b[49m\u001b[43m(\u001b[49m\u001b[38;5;241;43m*\u001b[39;49m\u001b[43margs\u001b[49m\u001b[43m,\u001b[49m\u001b[43m \u001b[49m\u001b[38;5;241;43m*\u001b[39;49m\u001b[38;5;241;43m*\u001b[39;49m\u001b[43mkwargs\u001b[49m\u001b[43m)\u001b[49m\n",
      "File \u001b[0;32m~/.pyenv/versions/3.10.6/envs/lang-env/lib/python3.10/site-packages/pandas/util/_decorators.py:331\u001b[0m, in \u001b[0;36mdeprecate_nonkeyword_arguments.<locals>.decorate.<locals>.wrapper\u001b[0;34m(*args, **kwargs)\u001b[0m\n\u001b[1;32m    325\u001b[0m \u001b[38;5;28;01mif\u001b[39;00m \u001b[38;5;28mlen\u001b[39m(args) \u001b[38;5;241m>\u001b[39m num_allow_args:\n\u001b[1;32m    326\u001b[0m     warnings\u001b[38;5;241m.\u001b[39mwarn(\n\u001b[1;32m    327\u001b[0m         msg\u001b[38;5;241m.\u001b[39mformat(arguments\u001b[38;5;241m=\u001b[39m_format_argument_list(allow_args)),\n\u001b[1;32m    328\u001b[0m         \u001b[38;5;167;01mFutureWarning\u001b[39;00m,\n\u001b[1;32m    329\u001b[0m         stacklevel\u001b[38;5;241m=\u001b[39mfind_stack_level(),\n\u001b[1;32m    330\u001b[0m     )\n\u001b[0;32m--> 331\u001b[0m \u001b[38;5;28;01mreturn\u001b[39;00m \u001b[43mfunc\u001b[49m\u001b[43m(\u001b[49m\u001b[38;5;241;43m*\u001b[39;49m\u001b[43margs\u001b[49m\u001b[43m,\u001b[49m\u001b[43m \u001b[49m\u001b[38;5;241;43m*\u001b[39;49m\u001b[38;5;241;43m*\u001b[39;49m\u001b[43mkwargs\u001b[49m\u001b[43m)\u001b[49m\n",
      "File \u001b[0;32m~/.pyenv/versions/3.10.6/envs/lang-env/lib/python3.10/site-packages/pandas/io/parsers/readers.py:950\u001b[0m, in \u001b[0;36mread_csv\u001b[0;34m(filepath_or_buffer, sep, delimiter, header, names, index_col, usecols, squeeze, prefix, mangle_dupe_cols, dtype, engine, converters, true_values, false_values, skipinitialspace, skiprows, skipfooter, nrows, na_values, keep_default_na, na_filter, verbose, skip_blank_lines, parse_dates, infer_datetime_format, keep_date_col, date_parser, dayfirst, cache_dates, iterator, chunksize, compression, thousands, decimal, lineterminator, quotechar, quoting, doublequote, escapechar, comment, encoding, encoding_errors, dialect, error_bad_lines, warn_bad_lines, on_bad_lines, delim_whitespace, low_memory, memory_map, float_precision, storage_options)\u001b[0m\n\u001b[1;32m    935\u001b[0m kwds_defaults \u001b[38;5;241m=\u001b[39m _refine_defaults_read(\n\u001b[1;32m    936\u001b[0m     dialect,\n\u001b[1;32m    937\u001b[0m     delimiter,\n\u001b[0;32m   (...)\u001b[0m\n\u001b[1;32m    946\u001b[0m     defaults\u001b[38;5;241m=\u001b[39m{\u001b[38;5;124m\"\u001b[39m\u001b[38;5;124mdelimiter\u001b[39m\u001b[38;5;124m\"\u001b[39m: \u001b[38;5;124m\"\u001b[39m\u001b[38;5;124m,\u001b[39m\u001b[38;5;124m\"\u001b[39m},\n\u001b[1;32m    947\u001b[0m )\n\u001b[1;32m    948\u001b[0m kwds\u001b[38;5;241m.\u001b[39mupdate(kwds_defaults)\n\u001b[0;32m--> 950\u001b[0m \u001b[38;5;28;01mreturn\u001b[39;00m \u001b[43m_read\u001b[49m\u001b[43m(\u001b[49m\u001b[43mfilepath_or_buffer\u001b[49m\u001b[43m,\u001b[49m\u001b[43m \u001b[49m\u001b[43mkwds\u001b[49m\u001b[43m)\u001b[49m\n",
      "File \u001b[0;32m~/.pyenv/versions/3.10.6/envs/lang-env/lib/python3.10/site-packages/pandas/io/parsers/readers.py:605\u001b[0m, in \u001b[0;36m_read\u001b[0;34m(filepath_or_buffer, kwds)\u001b[0m\n\u001b[1;32m    602\u001b[0m _validate_names(kwds\u001b[38;5;241m.\u001b[39mget(\u001b[38;5;124m\"\u001b[39m\u001b[38;5;124mnames\u001b[39m\u001b[38;5;124m\"\u001b[39m, \u001b[38;5;28;01mNone\u001b[39;00m))\n\u001b[1;32m    604\u001b[0m \u001b[38;5;66;03m# Create the parser.\u001b[39;00m\n\u001b[0;32m--> 605\u001b[0m parser \u001b[38;5;241m=\u001b[39m \u001b[43mTextFileReader\u001b[49m\u001b[43m(\u001b[49m\u001b[43mfilepath_or_buffer\u001b[49m\u001b[43m,\u001b[49m\u001b[43m \u001b[49m\u001b[38;5;241;43m*\u001b[39;49m\u001b[38;5;241;43m*\u001b[39;49m\u001b[43mkwds\u001b[49m\u001b[43m)\u001b[49m\n\u001b[1;32m    607\u001b[0m \u001b[38;5;28;01mif\u001b[39;00m chunksize \u001b[38;5;129;01mor\u001b[39;00m iterator:\n\u001b[1;32m    608\u001b[0m     \u001b[38;5;28;01mreturn\u001b[39;00m parser\n",
      "File \u001b[0;32m~/.pyenv/versions/3.10.6/envs/lang-env/lib/python3.10/site-packages/pandas/io/parsers/readers.py:1442\u001b[0m, in \u001b[0;36mTextFileReader.__init__\u001b[0;34m(self, f, engine, **kwds)\u001b[0m\n\u001b[1;32m   1439\u001b[0m     \u001b[38;5;28mself\u001b[39m\u001b[38;5;241m.\u001b[39moptions[\u001b[38;5;124m\"\u001b[39m\u001b[38;5;124mhas_index_names\u001b[39m\u001b[38;5;124m\"\u001b[39m] \u001b[38;5;241m=\u001b[39m kwds[\u001b[38;5;124m\"\u001b[39m\u001b[38;5;124mhas_index_names\u001b[39m\u001b[38;5;124m\"\u001b[39m]\n\u001b[1;32m   1441\u001b[0m \u001b[38;5;28mself\u001b[39m\u001b[38;5;241m.\u001b[39mhandles: IOHandles \u001b[38;5;241m|\u001b[39m \u001b[38;5;28;01mNone\u001b[39;00m \u001b[38;5;241m=\u001b[39m \u001b[38;5;28;01mNone\u001b[39;00m\n\u001b[0;32m-> 1442\u001b[0m \u001b[38;5;28mself\u001b[39m\u001b[38;5;241m.\u001b[39m_engine \u001b[38;5;241m=\u001b[39m \u001b[38;5;28;43mself\u001b[39;49m\u001b[38;5;241;43m.\u001b[39;49m\u001b[43m_make_engine\u001b[49m\u001b[43m(\u001b[49m\u001b[43mf\u001b[49m\u001b[43m,\u001b[49m\u001b[43m \u001b[49m\u001b[38;5;28;43mself\u001b[39;49m\u001b[38;5;241;43m.\u001b[39;49m\u001b[43mengine\u001b[49m\u001b[43m)\u001b[49m\n",
      "File \u001b[0;32m~/.pyenv/versions/3.10.6/envs/lang-env/lib/python3.10/site-packages/pandas/io/parsers/readers.py:1735\u001b[0m, in \u001b[0;36mTextFileReader._make_engine\u001b[0;34m(self, f, engine)\u001b[0m\n\u001b[1;32m   1733\u001b[0m     \u001b[38;5;28;01mif\u001b[39;00m \u001b[38;5;124m\"\u001b[39m\u001b[38;5;124mb\u001b[39m\u001b[38;5;124m\"\u001b[39m \u001b[38;5;129;01mnot\u001b[39;00m \u001b[38;5;129;01min\u001b[39;00m mode:\n\u001b[1;32m   1734\u001b[0m         mode \u001b[38;5;241m+\u001b[39m\u001b[38;5;241m=\u001b[39m \u001b[38;5;124m\"\u001b[39m\u001b[38;5;124mb\u001b[39m\u001b[38;5;124m\"\u001b[39m\n\u001b[0;32m-> 1735\u001b[0m \u001b[38;5;28mself\u001b[39m\u001b[38;5;241m.\u001b[39mhandles \u001b[38;5;241m=\u001b[39m \u001b[43mget_handle\u001b[49m\u001b[43m(\u001b[49m\n\u001b[1;32m   1736\u001b[0m \u001b[43m    \u001b[49m\u001b[43mf\u001b[49m\u001b[43m,\u001b[49m\n\u001b[1;32m   1737\u001b[0m \u001b[43m    \u001b[49m\u001b[43mmode\u001b[49m\u001b[43m,\u001b[49m\n\u001b[1;32m   1738\u001b[0m \u001b[43m    \u001b[49m\u001b[43mencoding\u001b[49m\u001b[38;5;241;43m=\u001b[39;49m\u001b[38;5;28;43mself\u001b[39;49m\u001b[38;5;241;43m.\u001b[39;49m\u001b[43moptions\u001b[49m\u001b[38;5;241;43m.\u001b[39;49m\u001b[43mget\u001b[49m\u001b[43m(\u001b[49m\u001b[38;5;124;43m\"\u001b[39;49m\u001b[38;5;124;43mencoding\u001b[39;49m\u001b[38;5;124;43m\"\u001b[39;49m\u001b[43m,\u001b[49m\u001b[43m \u001b[49m\u001b[38;5;28;43;01mNone\u001b[39;49;00m\u001b[43m)\u001b[49m\u001b[43m,\u001b[49m\n\u001b[1;32m   1739\u001b[0m \u001b[43m    \u001b[49m\u001b[43mcompression\u001b[49m\u001b[38;5;241;43m=\u001b[39;49m\u001b[38;5;28;43mself\u001b[39;49m\u001b[38;5;241;43m.\u001b[39;49m\u001b[43moptions\u001b[49m\u001b[38;5;241;43m.\u001b[39;49m\u001b[43mget\u001b[49m\u001b[43m(\u001b[49m\u001b[38;5;124;43m\"\u001b[39;49m\u001b[38;5;124;43mcompression\u001b[39;49m\u001b[38;5;124;43m\"\u001b[39;49m\u001b[43m,\u001b[49m\u001b[43m \u001b[49m\u001b[38;5;28;43;01mNone\u001b[39;49;00m\u001b[43m)\u001b[49m\u001b[43m,\u001b[49m\n\u001b[1;32m   1740\u001b[0m \u001b[43m    \u001b[49m\u001b[43mmemory_map\u001b[49m\u001b[38;5;241;43m=\u001b[39;49m\u001b[38;5;28;43mself\u001b[39;49m\u001b[38;5;241;43m.\u001b[39;49m\u001b[43moptions\u001b[49m\u001b[38;5;241;43m.\u001b[39;49m\u001b[43mget\u001b[49m\u001b[43m(\u001b[49m\u001b[38;5;124;43m\"\u001b[39;49m\u001b[38;5;124;43mmemory_map\u001b[39;49m\u001b[38;5;124;43m\"\u001b[39;49m\u001b[43m,\u001b[49m\u001b[43m \u001b[49m\u001b[38;5;28;43;01mFalse\u001b[39;49;00m\u001b[43m)\u001b[49m\u001b[43m,\u001b[49m\n\u001b[1;32m   1741\u001b[0m \u001b[43m    \u001b[49m\u001b[43mis_text\u001b[49m\u001b[38;5;241;43m=\u001b[39;49m\u001b[43mis_text\u001b[49m\u001b[43m,\u001b[49m\n\u001b[1;32m   1742\u001b[0m \u001b[43m    \u001b[49m\u001b[43merrors\u001b[49m\u001b[38;5;241;43m=\u001b[39;49m\u001b[38;5;28;43mself\u001b[39;49m\u001b[38;5;241;43m.\u001b[39;49m\u001b[43moptions\u001b[49m\u001b[38;5;241;43m.\u001b[39;49m\u001b[43mget\u001b[49m\u001b[43m(\u001b[49m\u001b[38;5;124;43m\"\u001b[39;49m\u001b[38;5;124;43mencoding_errors\u001b[39;49m\u001b[38;5;124;43m\"\u001b[39;49m\u001b[43m,\u001b[49m\u001b[43m \u001b[49m\u001b[38;5;124;43m\"\u001b[39;49m\u001b[38;5;124;43mstrict\u001b[39;49m\u001b[38;5;124;43m\"\u001b[39;49m\u001b[43m)\u001b[49m\u001b[43m,\u001b[49m\n\u001b[1;32m   1743\u001b[0m \u001b[43m    \u001b[49m\u001b[43mstorage_options\u001b[49m\u001b[38;5;241;43m=\u001b[39;49m\u001b[38;5;28;43mself\u001b[39;49m\u001b[38;5;241;43m.\u001b[39;49m\u001b[43moptions\u001b[49m\u001b[38;5;241;43m.\u001b[39;49m\u001b[43mget\u001b[49m\u001b[43m(\u001b[49m\u001b[38;5;124;43m\"\u001b[39;49m\u001b[38;5;124;43mstorage_options\u001b[39;49m\u001b[38;5;124;43m\"\u001b[39;49m\u001b[43m,\u001b[49m\u001b[43m \u001b[49m\u001b[38;5;28;43;01mNone\u001b[39;49;00m\u001b[43m)\u001b[49m\u001b[43m,\u001b[49m\n\u001b[1;32m   1744\u001b[0m \u001b[43m\u001b[49m\u001b[43m)\u001b[49m\n\u001b[1;32m   1745\u001b[0m \u001b[38;5;28;01massert\u001b[39;00m \u001b[38;5;28mself\u001b[39m\u001b[38;5;241m.\u001b[39mhandles \u001b[38;5;129;01mis\u001b[39;00m \u001b[38;5;129;01mnot\u001b[39;00m \u001b[38;5;28;01mNone\u001b[39;00m\n\u001b[1;32m   1746\u001b[0m f \u001b[38;5;241m=\u001b[39m \u001b[38;5;28mself\u001b[39m\u001b[38;5;241m.\u001b[39mhandles\u001b[38;5;241m.\u001b[39mhandle\n",
      "File \u001b[0;32m~/.pyenv/versions/3.10.6/envs/lang-env/lib/python3.10/site-packages/pandas/io/common.py:856\u001b[0m, in \u001b[0;36mget_handle\u001b[0;34m(path_or_buf, mode, encoding, compression, memory_map, is_text, errors, storage_options)\u001b[0m\n\u001b[1;32m    851\u001b[0m \u001b[38;5;28;01melif\u001b[39;00m \u001b[38;5;28misinstance\u001b[39m(handle, \u001b[38;5;28mstr\u001b[39m):\n\u001b[1;32m    852\u001b[0m     \u001b[38;5;66;03m# Check whether the filename is to be opened in binary mode.\u001b[39;00m\n\u001b[1;32m    853\u001b[0m     \u001b[38;5;66;03m# Binary mode does not support 'encoding' and 'newline'.\u001b[39;00m\n\u001b[1;32m    854\u001b[0m     \u001b[38;5;28;01mif\u001b[39;00m ioargs\u001b[38;5;241m.\u001b[39mencoding \u001b[38;5;129;01mand\u001b[39;00m \u001b[38;5;124m\"\u001b[39m\u001b[38;5;124mb\u001b[39m\u001b[38;5;124m\"\u001b[39m \u001b[38;5;129;01mnot\u001b[39;00m \u001b[38;5;129;01min\u001b[39;00m ioargs\u001b[38;5;241m.\u001b[39mmode:\n\u001b[1;32m    855\u001b[0m         \u001b[38;5;66;03m# Encoding\u001b[39;00m\n\u001b[0;32m--> 856\u001b[0m         handle \u001b[38;5;241m=\u001b[39m \u001b[38;5;28;43mopen\u001b[39;49m\u001b[43m(\u001b[49m\n\u001b[1;32m    857\u001b[0m \u001b[43m            \u001b[49m\u001b[43mhandle\u001b[49m\u001b[43m,\u001b[49m\n\u001b[1;32m    858\u001b[0m \u001b[43m            \u001b[49m\u001b[43mioargs\u001b[49m\u001b[38;5;241;43m.\u001b[39;49m\u001b[43mmode\u001b[49m\u001b[43m,\u001b[49m\n\u001b[1;32m    859\u001b[0m \u001b[43m            \u001b[49m\u001b[43mencoding\u001b[49m\u001b[38;5;241;43m=\u001b[39;49m\u001b[43mioargs\u001b[49m\u001b[38;5;241;43m.\u001b[39;49m\u001b[43mencoding\u001b[49m\u001b[43m,\u001b[49m\n\u001b[1;32m    860\u001b[0m \u001b[43m            \u001b[49m\u001b[43merrors\u001b[49m\u001b[38;5;241;43m=\u001b[39;49m\u001b[43merrors\u001b[49m\u001b[43m,\u001b[49m\n\u001b[1;32m    861\u001b[0m \u001b[43m            \u001b[49m\u001b[43mnewline\u001b[49m\u001b[38;5;241;43m=\u001b[39;49m\u001b[38;5;124;43m\"\u001b[39;49m\u001b[38;5;124;43m\"\u001b[39;49m\u001b[43m,\u001b[49m\n\u001b[1;32m    862\u001b[0m \u001b[43m        \u001b[49m\u001b[43m)\u001b[49m\n\u001b[1;32m    863\u001b[0m     \u001b[38;5;28;01melse\u001b[39;00m:\n\u001b[1;32m    864\u001b[0m         \u001b[38;5;66;03m# Binary mode\u001b[39;00m\n\u001b[1;32m    865\u001b[0m         handle \u001b[38;5;241m=\u001b[39m \u001b[38;5;28mopen\u001b[39m(handle, ioargs\u001b[38;5;241m.\u001b[39mmode)\n",
      "\u001b[0;31mFileNotFoundError\u001b[0m: [Errno 2] No such file or directory: 'data/alcohol-consumption-in-russia.csv'"
     ]
    }
   ],
   "source": [
    "# dataset\n",
    "alcohol = pd.read_csv(\"data/alcohol-consumption-in-russia.csv\")\n",
    "\n",
    "# key variables\n",
    "target_region = 'Saint Petersburg'\n",
    "alcohol_categories = ['wine', 'beer', 'vodka', 'champagne', 'brandy']\n",
    "years = sorted(alcohol['year'].unique())\n",
    "print(len(years))"
   ]
  },
  {
   "cell_type": "markdown",
   "id": "806630a6-dbb5-4a50-8507-f89ee109bd35",
   "metadata": {},
   "source": [
    "# Preprocessing"
   ]
  },
  {
   "cell_type": "code",
   "execution_count": 3,
   "id": "7dbac95e-dd99-4e1e-accc-08570161520b",
   "metadata": {},
   "outputs": [
    {
     "ename": "NameError",
     "evalue": "name 'alcohol' is not defined",
     "output_type": "error",
     "traceback": [
      "\u001b[0;31m---------------------------------------------------------------------------\u001b[0m",
      "\u001b[0;31mNameError\u001b[0m                                 Traceback (most recent call last)",
      "Cell \u001b[0;32mIn[3], line 2\u001b[0m\n\u001b[1;32m      1\u001b[0m \u001b[38;5;66;03m# fill in nans\u001b[39;00m\n\u001b[0;32m----> 2\u001b[0m alcohol \u001b[38;5;241m=\u001b[39m \u001b[43malcohol\u001b[49m\u001b[38;5;241m.\u001b[39mfillna(\u001b[38;5;241m0\u001b[39m)\n\u001b[1;32m      4\u001b[0m \u001b[38;5;66;03m# create total column\u001b[39;00m\n\u001b[1;32m      5\u001b[0m alcohol[\u001b[38;5;124m'\u001b[39m\u001b[38;5;124mtotal\u001b[39m\u001b[38;5;124m'\u001b[39m] \u001b[38;5;241m=\u001b[39m alcohol[alcohol_categories]\u001b[38;5;241m.\u001b[39msum(axis \u001b[38;5;241m=\u001b[39m \u001b[38;5;241m1\u001b[39m)\n",
      "\u001b[0;31mNameError\u001b[0m: name 'alcohol' is not defined"
     ]
    }
   ],
   "source": [
    "# fill in nans\n",
    "alcohol = alcohol.fillna(0)\n",
    "\n",
    "# create total column\n",
    "alcohol['total'] = alcohol[alcohol_categories].sum(axis = 1)\n",
    "\n",
    "# filter out nulls\n",
    "alcohol = alcohol[alcohol['total'] > 0]"
   ]
  },
  {
   "cell_type": "code",
   "execution_count": null,
   "id": "f6cb7172-b868-4cfe-9670-b82c9f231bea",
   "metadata": {},
   "outputs": [],
   "source": [
    "alcohol[target_region] = alcohol['region'].apply(lambda x: 1 if x == target_region else 0)"
   ]
  },
  {
   "cell_type": "code",
   "execution_count": null,
   "id": "cd8babd6-7e3c-439d-8903-d4b168ebcfa9",
   "metadata": {},
   "outputs": [],
   "source": [
    "alcohol.describe()"
   ]
  },
  {
   "cell_type": "markdown",
   "id": "4e94203a-5173-4e15-bcf2-d9ebb9e7040d",
   "metadata": {},
   "source": [
    "# EDA"
   ]
  },
  {
   "cell_type": "markdown",
   "id": "243bdae4-7d19-4535-8601-10f77b224d21",
   "metadata": {},
   "source": [
    "## What are the largest regions by alcohol category?"
   ]
  },
  {
   "cell_type": "code",
   "execution_count": null,
   "id": "b1739948-8e2a-4b1c-9e53-b6d87e81aeba",
   "metadata": {},
   "outputs": [],
   "source": [
    "def is_target_region(region):\n",
    "    return region == target_region"
   ]
  },
  {
   "cell_type": "code",
   "execution_count": null,
   "id": "8dc4d762-e1e1-42bb-968e-4abe65fb421e",
   "metadata": {},
   "outputs": [],
   "source": [
    "alcohol_category = 'beer'\n",
    "\n",
    "df = alcohol.copy()\n",
    "\n",
    "fig, axs = plt.subplots(7, 3, figsize = (16, 20))\n",
    "axs = axs.flatten()\n",
    "\n",
    "tmp = df.groupby(['year','region'])[alcohol_category].sum().reset_index()\n",
    "tmp.columns = ['year', 'region', alcohol_category]\n",
    "top_list = 10\n",
    "\n",
    "i = 0\n",
    "for year in years:\n",
    "    tmp2 = tmp[tmp['year'] == year]\n",
    "    tmp2 = tmp2.sort_values(by = alcohol_category, ascending = False)\n",
    "    tmp2 = tmp2.head(top_list)\n",
    "    tmp2[target_region] = tmp2['region'].apply(is_target_region) \n",
    "    sns.barplot(data = tmp2, x = alcohol_category, y = 'region', ax = axs[i], hue = target_region)\n",
    "    axs[i].set_title(f\"{year} Top-10 List {alcohol_category.capitalize()}\")\n",
    "    axs[i].legend().remove()\n",
    "    i += 1\n",
    "plt.tight_layout()"
   ]
  },
  {
   "cell_type": "code",
   "execution_count": null,
   "id": "5a8362a6-88b8-46bb-a86f-ac3bcf436995",
   "metadata": {},
   "outputs": [],
   "source": [
    "df = alcohol[alcohol['region'] == target_region]\n",
    "df = df.groupby(['year','region'])[alcohol_categories].sum().reset_index()\n",
    "df = df.melt(id_vars=['year', 'region'])\n",
    "df.columns = ['year', 'region', 'category', 'liters']\n",
    "df = df.sort_values(by = 'liters', ascending = False)\n",
    "\n",
    "fig, axs = plt.subplots(1, 2, figsize = (20, 4))\n",
    "sns.lineplot(data = df, x = 'year', y = 'liters', hue = 'category', ax = axs[0], hue_order = alcohol_categories)\n",
    "axs[0].set_title(f\"{target_region} Alcohol Consumption Over Time\")\n",
    "\n",
    "\n",
    "df = alcohol.copy()\n",
    "df = alcohol[alcohol['region'] == target_region].reset_index(drop = True)\n",
    "\n",
    "for cat in alcohol_categories:\n",
    "    df[f'pct_{cat}'] = df[cat] / df['total']\n",
    "\n",
    "df = df.drop(alcohol_categories + ['total', target_region], axis = 1).fillna(0)\n",
    "\n",
    "df = df.melt(id_vars = ['year', 'region'])\n",
    "df.columns = ['year', 'region', 'category', 'pct']\n",
    "\n",
    "plt.figure(figsize=(16, 6))\n",
    "axs[1].set_title(f\"{target_region} Alcohol consumption as a percent of total\")\n",
    "sns.lineplot(data = df, x = 'year', y = 'pct', hue = 'category', ax = axs[1])\n",
    "\n",
    "plt.tight_layout()"
   ]
  },
  {
   "cell_type": "markdown",
   "id": "41195c29-1364-4c91-8019-219dc28bce77",
   "metadata": {},
   "source": [
    "# Feature Engineering"
   ]
  },
  {
   "cell_type": "markdown",
   "id": "d9b06e63-ea00-4829-b8e1-1bf830c3cee8",
   "metadata": {},
   "source": [
    "## Add historic features"
   ]
  },
  {
   "cell_type": "code",
   "execution_count": null,
   "id": "9e328570-70a5-43e8-b42b-b2d4d4bd5d14",
   "metadata": {},
   "outputs": [],
   "source": [
    "df = alcohol.copy()\n",
    "most_recent_year = df['year'].max()\n",
    "year_list = [most_recent_year - y for y in np.arange(1, 4)]\n",
    "alcohol = df[['region','year'] + alcohol_categories]"
   ]
  },
  {
   "cell_type": "code",
   "execution_count": null,
   "id": "48288615-ee56-4b0b-a8f0-21da62d11e39",
   "metadata": {},
   "outputs": [],
   "source": [
    "df = alcohol.copy()\n",
    "\n",
    "data = []\n",
    "tmp = df[df['year'] == most_recent_year]\n",
    "data.append(tmp)\n",
    "\n",
    "for year in year_list:\n",
    "    tmp = df[df['year'] == year]\n",
    "    data.append(tmp)\n",
    "\n",
    "df = pd.pivot(pd.concat(data), values = alcohol_categories, index='region', columns = 'year')\n",
    "df.columns = [x[0] + \"_\" + str(x[1]) for x in df.columns]\n",
    "\n",
    "df = df.fillna(0)"
   ]
  },
  {
   "cell_type": "markdown",
   "id": "5c8ef934-9204-46c1-b951-b23dd8a94100",
   "metadata": {},
   "source": [
    "## Find optimal group count for KMeans"
   ]
  },
  {
   "cell_type": "code",
   "execution_count": null,
   "id": "f0cc88a5-dad9-4912-a677-ece95939d284",
   "metadata": {},
   "outputs": [],
   "source": [
    "plt.figure(figsize = (16, 6))\n",
    "scaler = StandardScaler()\n",
    "scaled_df = scaler.fit_transform(df)\n",
    "\n",
    "ks = np.arange(1, 11)\n",
    "wcss = []\n",
    "for k in ks:\n",
    "    model = KMeans(n_clusters = k, n_init = 'auto')\n",
    "    model.fit(scaled_df)\n",
    "    wcss.append(model.inertia_)\n",
    "\n",
    "plt.plot(ks, wcss)\n",
    "plt.xlabel(\"clusters\")\n",
    "plt.ylabel(\"inertia\")\n",
    "plt.tight_layout()"
   ]
  },
  {
   "cell_type": "markdown",
   "id": "1cf4850c-7ab7-46ab-a947-f1c63202fb3f",
   "metadata": {},
   "source": [
    "# Model Building"
   ]
  },
  {
   "cell_type": "code",
   "execution_count": null,
   "id": "bec55e61-5c95-47a8-9928-b40274f74471",
   "metadata": {},
   "outputs": [],
   "source": [
    "n_clusters = 4\n",
    "model = KMeans(n_clusters=n_clusters, n_init = 'auto')\n",
    "labels = model.fit_predict(scaled_df)\n",
    "df['group'] = labels + 1"
   ]
  },
  {
   "cell_type": "markdown",
   "id": "93f133fa-3fb9-462e-a775-09d25156c067",
   "metadata": {},
   "source": [
    "# PCA"
   ]
  },
  {
   "cell_type": "code",
   "execution_count": null,
   "id": "43df6a64-92d8-4122-8268-d44594d9dd0c",
   "metadata": {},
   "outputs": [],
   "source": [
    "pca = PCA(n_components=2)\n",
    "pca_components = pca.fit_transform(scaled_df)"
   ]
  },
  {
   "cell_type": "code",
   "execution_count": null,
   "id": "3bfed662-bcde-46fc-99ba-077703db4c5e",
   "metadata": {},
   "outputs": [],
   "source": [
    "tmp = pd.DataFrame(pca_components[:, :])\n",
    "tmp.columns = ['PCA1', 'PCA2']\n",
    "tmp['region'] = df.index\n",
    "tmp['group'] = labels + 1\n",
    "tmp"
   ]
  },
  {
   "cell_type": "code",
   "execution_count": null,
   "id": "64c658ca-c413-4ad5-a93c-22949076473b",
   "metadata": {},
   "outputs": [],
   "source": [
    "group = tmp[tmp['region'] == target_region]['group'].values[0]"
   ]
  },
  {
   "cell_type": "code",
   "execution_count": null,
   "id": "581bd4b0-e5ff-492e-b26a-6207a01ce513",
   "metadata": {},
   "outputs": [],
   "source": [
    "plt.figure(figsize = (12, 8))\n",
    "ax = sns.scatterplot(data = tmp, x = 'PCA1', y = 'PCA2', hue = 'group')\n",
    "\n",
    "# Annotate each point in the scatter plot\n",
    "for i in range(tmp.shape[0]):\n",
    "    if tmp['group'][i] == group:\n",
    "        ax.text(tmp['PCA1'][i] + 0.0,  # use proper indexing for DataFrame columns\n",
    "                tmp['PCA2'][i] + 0.05,  # use proper indexing for DataFrame columns\n",
    "                tmp['region'][i],  # use proper indexing for DataFrame columns\n",
    "                horizontalalignment='left',\n",
    "                size='small', color='black', weight=None)\n",
    "\n",
    "plt.tight_layout()"
   ]
  },
  {
   "cell_type": "code",
   "execution_count": null,
   "id": "9598440d-ed25-4bd1-9dfd-facb462aea15",
   "metadata": {},
   "outputs": [],
   "source": [
    "tmp = df[df['group'] == group].reset_index()\n",
    "tmp = tmp.drop('group', axis = 1)\n",
    "num_features = tmp.select_dtypes(exclude = 'object').columns\n",
    "\n",
    "scaler = StandardScaler()\n",
    "tmp2 = scaler.fit_transform(tmp[num_features])\n",
    "tmp2 = pd.DataFrame(tmp2)\n",
    "tmp2.columns = num_features\n",
    "tmp2['region'] = tmp['region']\n",
    "\n",
    "st_peters_vals = tmp2[tmp2['region'] == target_region][num_features].values\n",
    "regions = [r for r in tmp['region'].unique() if r != target_region]\n",
    "\n",
    "data = []\n",
    "for r in regions:\n",
    "    comp_vals = tmp[tmp['region'] == r][num_features].values\n",
    "    similarity = euclidean_distances(st_peters_vals, comp_vals)\n",
    "    item = {}\n",
    "    item['region'] = r\n",
    "    item['distance'] = similarity[0][0]\n",
    "    data.append(item)"
   ]
  },
  {
   "cell_type": "markdown",
   "id": "a197eeb6-721b-4e66-8171-a9335ee040b2",
   "metadata": {},
   "source": [
    "# Ten Regions with Similar Alcohol Consumption Habits to Saint Petersburg"
   ]
  },
  {
   "cell_type": "code",
   "execution_count": null,
   "id": "e68eccd5-b386-432b-b5f2-2b25efda542f",
   "metadata": {},
   "outputs": [],
   "source": [
    "tmp = pd.DataFrame(data).sort_values(by = 'distance', ascending = True).reset_index(drop = True)\n",
    "tmp.head(10)\n",
    "similar_regions = tmp.head(10)['region'].values\n",
    "\n",
    "# store all regions here\n",
    "relevant_regions = np.append(similar_regions, target_region)\n",
    "\n",
    "tmp.head(10)"
   ]
  }
 ],
 "metadata": {
  "kernelspec": {
   "display_name": "Python 3 (ipykernel)",
   "language": "python",
   "name": "python3"
  },
  "language_info": {
   "codemirror_mode": {
    "name": "ipython",
    "version": 3
   },
   "file_extension": ".py",
   "mimetype": "text/x-python",
   "name": "python",
   "nbconvert_exporter": "python",
   "pygments_lexer": "ipython3",
   "version": "3.10.6"
  }
 },
 "nbformat": 4,
 "nbformat_minor": 5
}
