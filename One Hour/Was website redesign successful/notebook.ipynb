{
 "cells": [
  {
   "cell_type": "markdown",
   "id": "9a9ada08-c9f0-466f-91a0-265fa539f9f5",
   "metadata": {},
   "source": [
    "# Which version of the website should you use?\n",
    "\n",
    "## 📖 Background\n",
    "You work for an early-stage startup in Germany. Your team has been working on a redesign of the landing page. The team believes a new design will increase the number of people who click through and join your site. \n",
    "\n",
    "They have been testing the changes for a few weeks and now they want to measure the impact of the change and need you to determine if the increase can be due to random chance or if it is statistically significant."
   ]
  },
  {
   "cell_type": "markdown",
   "id": "10dcc269-3659-4851-99cd-f1ffb7f818aa",
   "metadata": {
    "tags": []
   },
   "source": [
    "## 💾 The data\n",
    "The team assembled the following file:\n",
    "\n",
    "#### Redesign test data\n",
    "- \"treatment\" - \"yes\" if the user saw the new version of the landing page, no otherwise.\n",
    "- \"new_images\" - \"yes\" if the page used a new set of images, no otherwise.\n",
    "- \"converted\" - 1 if the user joined the site, 0 otherwise.\n",
    "\n",
    "The control group is those users with \"no\" in both columns: the old version with the old set of images."
   ]
  },
  {
   "cell_type": "markdown",
   "id": "b53ebf2b-a2e2-4860-a210-9d653587d20d",
   "metadata": {},
   "source": [
    "## 💪 Challenge\n",
    "Complete the following tasks:\n",
    "\n",
    "1. Analyze the conversion rates for each of the four groups: the new/old design of the landing page and the new/old pictures.\n",
    "2. Can the increases observed be explained by randomness? (Hint: Think A/B test)\n",
    "3. Which version of the website should they use?"
   ]
  },
  {
   "cell_type": "markdown",
   "id": "1b8358da-d503-47db-8cfb-453feceeb3d0",
   "metadata": {},
   "source": [
    "# Imports"
   ]
  },
  {
   "cell_type": "code",
   "execution_count": 1,
   "id": "e17ee3c0-7135-4236-9ec3-d33186296712",
   "metadata": {},
   "outputs": [],
   "source": [
    "import pandas as pd\n",
    "import numpy as np\n",
    "import matplotlib.pyplot as plt\n",
    "import seaborn as sns\n",
    "\n",
    "from scipy.stats import chi2_contingency\n",
    "from statsmodels.stats.proportion import proportions_ztest"
   ]
  },
  {
   "cell_type": "code",
   "execution_count": 2,
   "id": "5dd36956-7b15-47bb-bd91-191a784c1e1a",
   "metadata": {},
   "outputs": [
    {
     "data": {
      "text/html": [
       "<div>\n",
       "<style scoped>\n",
       "    .dataframe tbody tr th:only-of-type {\n",
       "        vertical-align: middle;\n",
       "    }\n",
       "\n",
       "    .dataframe tbody tr th {\n",
       "        vertical-align: top;\n",
       "    }\n",
       "\n",
       "    .dataframe thead th {\n",
       "        text-align: right;\n",
       "    }\n",
       "</style>\n",
       "<table border=\"1\" class=\"dataframe\">\n",
       "  <thead>\n",
       "    <tr style=\"text-align: right;\">\n",
       "      <th></th>\n",
       "      <th>treatment</th>\n",
       "      <th>new_images</th>\n",
       "      <th>converted</th>\n",
       "    </tr>\n",
       "  </thead>\n",
       "  <tbody>\n",
       "    <tr>\n",
       "      <th>0</th>\n",
       "      <td>yes</td>\n",
       "      <td>yes</td>\n",
       "      <td>0</td>\n",
       "    </tr>\n",
       "    <tr>\n",
       "      <th>1</th>\n",
       "      <td>yes</td>\n",
       "      <td>yes</td>\n",
       "      <td>0</td>\n",
       "    </tr>\n",
       "    <tr>\n",
       "      <th>2</th>\n",
       "      <td>yes</td>\n",
       "      <td>yes</td>\n",
       "      <td>0</td>\n",
       "    </tr>\n",
       "    <tr>\n",
       "      <th>3</th>\n",
       "      <td>yes</td>\n",
       "      <td>no</td>\n",
       "      <td>0</td>\n",
       "    </tr>\n",
       "    <tr>\n",
       "      <th>4</th>\n",
       "      <td>no</td>\n",
       "      <td>yes</td>\n",
       "      <td>0</td>\n",
       "    </tr>\n",
       "  </tbody>\n",
       "</table>\n",
       "</div>"
      ],
      "text/plain": [
       "  treatment new_images  converted\n",
       "0       yes        yes          0\n",
       "1       yes        yes          0\n",
       "2       yes        yes          0\n",
       "3       yes         no          0\n",
       "4        no        yes          0"
      ]
     },
     "execution_count": 2,
     "metadata": {},
     "output_type": "execute_result"
    }
   ],
   "source": [
    "df = pd.read_csv('./data/redesign.csv')\n",
    "df.head()"
   ]
  },
  {
   "cell_type": "code",
   "execution_count": 3,
   "id": "df479ebf-7cd5-47fc-a749-c6fd8644217f",
   "metadata": {},
   "outputs": [
    {
     "name": "stdout",
     "output_type": "stream",
     "text": [
      "<class 'pandas.core.frame.DataFrame'>\n",
      "RangeIndex: 40484 entries, 0 to 40483\n",
      "Data columns (total 3 columns):\n",
      " #   Column      Non-Null Count  Dtype \n",
      "---  ------      --------------  ----- \n",
      " 0   treatment   40484 non-null  object\n",
      " 1   new_images  40484 non-null  object\n",
      " 2   converted   40484 non-null  int64 \n",
      "dtypes: int64(1), object(2)\n",
      "memory usage: 949.0+ KB\n"
     ]
    }
   ],
   "source": [
    "df.info()"
   ]
  },
  {
   "cell_type": "markdown",
   "id": "ce8dfc2b-ea92-4bc5-81c1-11d604e76351",
   "metadata": {},
   "source": [
    "# Q1. Analyze the conversion rates for each of the four groups: new/old design of the landing page and new/old pictures"
   ]
  },
  {
   "cell_type": "code",
   "execution_count": 15,
   "id": "575f75cd-40ab-426b-887c-0bf81cde012e",
   "metadata": {},
   "outputs": [
    {
     "data": {
      "text/html": [
       "<div>\n",
       "<style scoped>\n",
       "    .dataframe tbody tr th:only-of-type {\n",
       "        vertical-align: middle;\n",
       "    }\n",
       "\n",
       "    .dataframe tbody tr th {\n",
       "        vertical-align: top;\n",
       "    }\n",
       "\n",
       "    .dataframe thead th {\n",
       "        text-align: right;\n",
       "    }\n",
       "</style>\n",
       "<table border=\"1\" class=\"dataframe\">\n",
       "  <thead>\n",
       "    <tr style=\"text-align: right;\">\n",
       "      <th></th>\n",
       "      <th>total_converted</th>\n",
       "      <th>total_count</th>\n",
       "      <th>conversion_rate</th>\n",
       "      <th>stdev</th>\n",
       "    </tr>\n",
       "  </thead>\n",
       "  <tbody>\n",
       "    <tr>\n",
       "      <th>converted</th>\n",
       "      <td>0.317028</td>\n",
       "      <td>40484.0</td>\n",
       "      <td>0.113353</td>\n",
       "      <td>4589.0</td>\n",
       "    </tr>\n",
       "  </tbody>\n",
       "</table>\n",
       "</div>"
      ],
      "text/plain": [
       "          total_converted total_count conversion_rate   stdev\n",
       "converted        0.317028     40484.0        0.113353  4589.0"
      ]
     },
     "execution_count": 15,
     "metadata": {},
     "output_type": "execute_result"
    }
   ],
   "source": [
    "summary = df['converted'].agg({'mean', 'sum', 'count', 'std'}).reset_index()\n",
    "summary = summary.transpose()\n",
    "summary.columns = ['total_converted', 'total_count', 'conversion_rate', 'stdev']\n",
    "summary.drop('index', axis = 0)"
   ]
  },
  {
   "cell_type": "code",
   "execution_count": 21,
   "id": "1d0e19e2-21b6-45c6-a332-ce85f36b9d02",
   "metadata": {},
   "outputs": [
    {
     "data": {
      "text/html": [
       "<div>\n",
       "<style scoped>\n",
       "    .dataframe tbody tr th:only-of-type {\n",
       "        vertical-align: middle;\n",
       "    }\n",
       "\n",
       "    .dataframe tbody tr th {\n",
       "        vertical-align: top;\n",
       "    }\n",
       "\n",
       "    .dataframe thead th {\n",
       "        text-align: right;\n",
       "    }\n",
       "</style>\n",
       "<table border=\"1\" class=\"dataframe\">\n",
       "  <thead>\n",
       "    <tr style=\"text-align: right;\">\n",
       "      <th></th>\n",
       "      <th>treatment</th>\n",
       "      <th>new_images</th>\n",
       "      <th>std</th>\n",
       "      <th>count</th>\n",
       "      <th>mean</th>\n",
       "      <th>sum</th>\n",
       "    </tr>\n",
       "  </thead>\n",
       "  <tbody>\n",
       "    <tr>\n",
       "      <th>2</th>\n",
       "      <td>yes</td>\n",
       "      <td>no</td>\n",
       "      <td>0.325033</td>\n",
       "      <td>10121</td>\n",
       "      <td>0.120047</td>\n",
       "      <td>1215</td>\n",
       "    </tr>\n",
       "    <tr>\n",
       "      <th>3</th>\n",
       "      <td>yes</td>\n",
       "      <td>yes</td>\n",
       "      <td>0.317491</td>\n",
       "      <td>10121</td>\n",
       "      <td>0.113724</td>\n",
       "      <td>1151</td>\n",
       "    </tr>\n",
       "    <tr>\n",
       "      <th>1</th>\n",
       "      <td>no</td>\n",
       "      <td>yes</td>\n",
       "      <td>0.316043</td>\n",
       "      <td>10121</td>\n",
       "      <td>0.112538</td>\n",
       "      <td>1139</td>\n",
       "    </tr>\n",
       "    <tr>\n",
       "      <th>0</th>\n",
       "      <td>no</td>\n",
       "      <td>no</td>\n",
       "      <td>0.309261</td>\n",
       "      <td>10121</td>\n",
       "      <td>0.107104</td>\n",
       "      <td>1084</td>\n",
       "    </tr>\n",
       "  </tbody>\n",
       "</table>\n",
       "</div>"
      ],
      "text/plain": [
       "  treatment new_images       std  count      mean   sum\n",
       "2       yes         no  0.325033  10121  0.120047  1215\n",
       "3       yes        yes  0.317491  10121  0.113724  1151\n",
       "1        no        yes  0.316043  10121  0.112538  1139\n",
       "0        no         no  0.309261  10121  0.107104  1084"
      ]
     },
     "execution_count": 21,
     "metadata": {},
     "output_type": "execute_result"
    }
   ],
   "source": [
    "gdf = df.groupby(['treatment', 'new_images'])['converted'].agg({'mean', 'sum', 'count', 'std'}).reset_index().sort_values(ascending = False, by = 'mean')\n",
    "gdf"
   ]
  },
  {
   "cell_type": "code",
   "execution_count": 63,
   "id": "b7a57710-489c-46c7-9e97-8ebdda1bb813",
   "metadata": {},
   "outputs": [
    {
     "data": {
      "text/html": [
       "<div>\n",
       "<style scoped>\n",
       "    .dataframe tbody tr th:only-of-type {\n",
       "        vertical-align: middle;\n",
       "    }\n",
       "\n",
       "    .dataframe tbody tr th {\n",
       "        vertical-align: top;\n",
       "    }\n",
       "\n",
       "    .dataframe thead th {\n",
       "        text-align: right;\n",
       "    }\n",
       "</style>\n",
       "<table border=\"1\" class=\"dataframe\">\n",
       "  <thead>\n",
       "    <tr style=\"text-align: right;\">\n",
       "      <th></th>\n",
       "      <th>treatment</th>\n",
       "      <th>new_images</th>\n",
       "      <th>std</th>\n",
       "      <th>total_count</th>\n",
       "      <th>conversion_rate</th>\n",
       "      <th>total_converted</th>\n",
       "      <th>group</th>\n",
       "    </tr>\n",
       "  </thead>\n",
       "  <tbody>\n",
       "    <tr>\n",
       "      <th>2</th>\n",
       "      <td>YES</td>\n",
       "      <td>NO</td>\n",
       "      <td>0.325033</td>\n",
       "      <td>10121</td>\n",
       "      <td>0.120047</td>\n",
       "      <td>1215</td>\n",
       "      <td>YES treatment | NO new_images</td>\n",
       "    </tr>\n",
       "    <tr>\n",
       "      <th>3</th>\n",
       "      <td>YES</td>\n",
       "      <td>YES</td>\n",
       "      <td>0.317491</td>\n",
       "      <td>10121</td>\n",
       "      <td>0.113724</td>\n",
       "      <td>1151</td>\n",
       "      <td>YES treatment | YES new_images</td>\n",
       "    </tr>\n",
       "    <tr>\n",
       "      <th>1</th>\n",
       "      <td>NO</td>\n",
       "      <td>YES</td>\n",
       "      <td>0.316043</td>\n",
       "      <td>10121</td>\n",
       "      <td>0.112538</td>\n",
       "      <td>1139</td>\n",
       "      <td>NO treatment | YES new_images</td>\n",
       "    </tr>\n",
       "    <tr>\n",
       "      <th>0</th>\n",
       "      <td>NO</td>\n",
       "      <td>NO</td>\n",
       "      <td>0.309261</td>\n",
       "      <td>10121</td>\n",
       "      <td>0.107104</td>\n",
       "      <td>1084</td>\n",
       "      <td>NO treatment | NO new_images</td>\n",
       "    </tr>\n",
       "  </tbody>\n",
       "</table>\n",
       "</div>"
      ],
      "text/plain": [
       "  treatment new_images       std  total_count  conversion_rate  \\\n",
       "2       YES         NO  0.325033        10121         0.120047   \n",
       "3       YES        YES  0.317491        10121         0.113724   \n",
       "1        NO        YES  0.316043        10121         0.112538   \n",
       "0        NO         NO  0.309261        10121         0.107104   \n",
       "\n",
       "   total_converted                            group  \n",
       "2             1215   YES treatment | NO new_images   \n",
       "3             1151  YES treatment | YES new_images   \n",
       "1             1139   NO treatment | YES new_images   \n",
       "0             1084    NO treatment | NO new_images   "
      ]
     },
     "execution_count": 63,
     "metadata": {},
     "output_type": "execute_result"
    }
   ],
   "source": [
    "gdf = df.groupby(['treatment', 'new_images'])['converted'].agg({'mean', 'sum', 'count', 'std'}).reset_index()\n",
    "gdf.columns = ['treatment', 'new_images', 'std', 'total_count', 'conversion_rate', 'total_converted']\n",
    "gdf['treatment'] = gdf['treatment'].apply(lambda x: x.upper())\n",
    "gdf['new_images'] = gdf['new_images'].apply(lambda x: x.upper())\n",
    "gdf['group'] = gdf['treatment'] + ' treatment' + ' | ' + gdf['new_images'] + ' new_images '\n",
    "gdf = gdf.sort_values(by = 'conversion_rate', ascending = False)\n",
    "gdf"
   ]
  },
  {
   "cell_type": "code",
   "execution_count": 64,
   "id": "b8627887-2300-4e1b-8556-d4283e6ed660",
   "metadata": {},
   "outputs": [
    {
     "data": {
      "image/png": "[encoded data removed]",
      "text/plain": [
       "<Figure size 1600x500 with 1 Axes>"
      ]
     },
     "metadata": {},
     "output_type": "display_data"
    }
   ],
   "source": [
    "plt.figure(figsize = ( 16, 5 ))\n",
    "sns.barplot(gdf, x = 'group', y = 'conversion_rate')\n",
    "\n",
    "plt.ylabel('conversion Rate')\n",
    "plt.tight_layout()"
   ]
  },
  {
   "cell_type": "markdown",
   "id": "7d6d4dbd-2292-4143-b9a4-f44b8fc502d2",
   "metadata": {},
   "source": [
    "# Q2. Can increases observed be explained by randomness?"
   ]
  },
  {
   "cell_type": "markdown",
   "id": "5dbe8d85-d95a-4e36-bd84-a4626908bb97",
   "metadata": {},
   "source": [
    "## Chi-Square Test"
   ]
  },
  {
   "cell_type": "code",
   "execution_count": 66,
   "id": "65d802f2-4e38-4a20-81c9-3536f4a7e58b",
   "metadata": {},
   "outputs": [
    {
     "data": {
      "text/html": [
       "<div>\n",
       "<style scoped>\n",
       "    .dataframe tbody tr th:only-of-type {\n",
       "        vertical-align: middle;\n",
       "    }\n",
       "\n",
       "    .dataframe tbody tr th {\n",
       "        vertical-align: top;\n",
       "    }\n",
       "\n",
       "    .dataframe thead th {\n",
       "        text-align: right;\n",
       "    }\n",
       "</style>\n",
       "<table border=\"1\" class=\"dataframe\">\n",
       "  <thead>\n",
       "    <tr style=\"text-align: right;\">\n",
       "      <th></th>\n",
       "      <th>Comparison</th>\n",
       "      <th>Chi-Squared</th>\n",
       "      <th>P-Value</th>\n",
       "    </tr>\n",
       "  </thead>\n",
       "  <tbody>\n",
       "    <tr>\n",
       "      <th>0</th>\n",
       "      <td>YES treatment, NO new_images vs. Control Group</td>\n",
       "      <td>8.292894</td>\n",
       "      <td>0.003980</td>\n",
       "    </tr>\n",
       "    <tr>\n",
       "      <th>1</th>\n",
       "      <td>YES treatment, YES new_images vs. Control Group</td>\n",
       "      <td>2.190899</td>\n",
       "      <td>0.138828</td>\n",
       "    </tr>\n",
       "    <tr>\n",
       "      <th>2</th>\n",
       "      <td>NO treatment, YES new_images vs. Control Group</td>\n",
       "      <td>1.473570</td>\n",
       "      <td>0.224783</td>\n",
       "    </tr>\n",
       "  </tbody>\n",
       "</table>\n",
       "</div>"
      ],
      "text/plain": [
       "                                        Comparison  Chi-Squared   P-Value\n",
       "0   YES treatment, NO new_images vs. Control Group     8.292894  0.003980\n",
       "1  YES treatment, YES new_images vs. Control Group     2.190899  0.138828\n",
       "2   NO treatment, YES new_images vs. Control Group     1.473570  0.224783"
      ]
     },
     "execution_count": 66,
     "metadata": {},
     "output_type": "execute_result"
    }
   ],
   "source": [
    "def chi_squared_test(group1, group2):\n",
    "    contingency_table = [\n",
    "        [group1['total_converted'], group1['total_count'] - group1['total_converted']],\n",
    "        [group2['total_converted'], group2['total_count'] - group2['total_converted']]\n",
    "    ]\n",
    "\n",
    "    chi2, p, _, _ = chi2_contingency(contingency_table)\n",
    "    return chi2, p\n",
    "\n",
    "labels = [\n",
    "    (\"YES treatment, NO new_images\", \"Control Group\"),\n",
    "    (\"YES treatment, YES new_images\", \"Control Group\"),\n",
    "    (\"NO treatment, YES new_images\", \"Control Group\"),\n",
    "]\n",
    "\n",
    "groups_for_comparison = [\n",
    "    (gdf.iloc[0], gdf.iloc[3]),\n",
    "    (gdf.iloc[1], gdf.iloc[3]),\n",
    "    (gdf.iloc[2], gdf.iloc[3]),\n",
    "]\n",
    "\n",
    "test_results = []\n",
    "for (label1, label2), (group1, group2) in zip(labels, groups_for_comparison):\n",
    "    chi2, p = chi_squared_test(group1, group2)\n",
    "    result = {\n",
    "        'Comparison': f\"{label1} vs. {label2}\",\n",
    "        'Chi-Squared': chi2,\n",
    "        'P-Value': p\n",
    "    }\n",
    "    test_results.append(result)\n",
    "\n",
    "pd.DataFrame(test_results).sort_values(\"P-Value\")"
   ]
  },
  {
   "cell_type": "markdown",
   "id": "f63d18a9-338b-491d-9683-3ff36cf51daf",
   "metadata": {},
   "source": [
    "**Results**\n",
    "---\n",
    "The low P-value of the Chi-square test for New Design, Old Images vs. Control Group (0.00398) suggests that the difference between these two group is statistically signifcant at the 95% level (i.e. a p-value < 0.05). These values indicate whether the observed differences between groups can be explained by randomness. A p-value less than 0.05 typically indicates that the observed difference is statistically significant and unlikely due to random chance. Conversely, a p-value greater than 0.05 suggests that the observed differences could be due to randomness.\n",
    "\n",
    "Thus, the redesign of the landing page (without the new images) appears to have a statistically significant positive impact on conversion rates. The new images alone or in combination with the new design do not show a statistically significant effec"
   ]
  },
  {
   "cell_type": "markdown",
   "id": "21ab9b43-6169-420f-beec-ef4b91ab6f88",
   "metadata": {},
   "source": [
    "## Z-test for Proportions"
   ]
  },
  {
   "cell_type": "code",
   "execution_count": 67,
   "id": "f2a6928f-53b3-4b4f-8c2e-2f643dd0f639",
   "metadata": {},
   "outputs": [
    {
     "name": "stdout",
     "output_type": "stream",
     "text": [
      "z-statistic: 2.9018903061123846\n",
      "p-value: 0.0037091839675173722\n"
     ]
    }
   ],
   "source": [
    "count = np.array([\n",
    "    df[(df['treatment'] == 'yes') & (df['new_images'] == 'no') & (df['converted'] == 1)].shape[0],\n",
    "    df[(df['treatment'] == 'no') & (df['new_images'] == 'no') & (df['converted'] == 1)].shape[0]\n",
    "])\n",
    "\n",
    "nobs = np.array([\n",
    "    df[(df['treatment'] == 'yes') & (df['new_images'] == 'no')].shape[0],\n",
    "    df[(df['treatment'] == 'no') & (df['new_images'] == 'no')].shape[0]\n",
    "])\n",
    "\n",
    "# Perform the z-test for proportions\n",
    "stat, pval = proportions_ztest(count, nobs)\n",
    "\n",
    "print('z-statistic:', stat)\n",
    "print('p-value:', pval)"
   ]
  },
  {
   "cell_type": "markdown",
   "id": "c4aa3233-5837-4e31-a5fc-cf95233b72e2",
   "metadata": {},
   "source": [
    "**Result**\n",
    "A z-statistic of 2.90 indicates that the difference in conversion rates between the new and old design (while keeping images old) is 2.90 standard deviations away from the hypothesized mean difference of zero. This is a measure of how extreme the observed result is, assuming there was no actual difference between the two designs.\n",
    "\n",
    "A p-value of 0.0037 suggests that such a result would be very unlikely if the new design did not actually affect conversions. Specifically, there's only a 0.37% chance of seeing this difference by random chance if the new design had no effect.\n",
    "\n",
    "The results are statistically significant, as the p-value (0.0037) is less than 0.05, the conventional threshold for significance in many scientific studies. This implies that the observed increase in the conversion rate with the new landing page design, compared to the old one, is likely not due to random variation but rather a true effect of the redesign. Therefore, we have evidence to support that the new design of the landing page is more effective at converting visitors than the old design, under the condition of using the old images. "
   ]
  },
  {
   "cell_type": "markdown",
   "id": "80668e5c-c41c-4a34-8356-b4e243ecc285",
   "metadata": {},
   "source": [
    "# Q3. Which version of the website should they use?"
   ]
  },
  {
   "cell_type": "markdown",
   "id": "abf91ae6-c0ce-4df7-8095-de77710114de",
   "metadata": {},
   "source": [
    "Based on the aforementioned statistical analyses, the company should employ a website with new design and old images as such design was associated with the higest conversion rate."
   ]
  }
 ],
 "metadata": {
  "kernelspec": {
   "display_name": "Python 3 (ipykernel)",
   "language": "python",
   "name": "python3"
  },
  "language_info": {
   "codemirror_mode": {
    "name": "ipython",
    "version": 3
   },
   "file_extension": ".py",
   "mimetype": "text/x-python",
   "name": "python",
   "nbconvert_exporter": "python",
   "pygments_lexer": "ipython3",
   "version": "3.10.6"
  }
 },
 "nbformat": 4,
 "nbformat_minor": 5
}
